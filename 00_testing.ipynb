{
 "metadata": {
  "language_info": {
   "codemirror_mode": {
    "name": "ipython",
    "version": 3
   },
   "file_extension": ".py",
   "mimetype": "text/x-python",
   "name": "python",
   "nbconvert_exporter": "python",
   "pygments_lexer": "ipython3",
   "version": "3.9.1-final"
  },
  "orig_nbformat": 2,
  "kernelspec": {
   "name": "python3",
   "display_name": "Python 3.9.1 64-bit ('lucky-make-prediction': conda)",
   "metadata": {
    "interpreter": {
     "hash": "b97b682d5764136a3189551778d4e7456e6206471eac64c1b0ed2235f65abf1a"
    }
   }
  }
 },
 "nbformat": 4,
 "nbformat_minor": 2,
 "cells": [
  {
   "cell_type": "code",
   "execution_count": 38,
   "metadata": {},
   "outputs": [
    {
     "output_type": "execute_result",
     "data": {
      "text/plain": [
       "   Issue Date\n",
       "0  12/26/2015\n",
       "1  12/24/2015\n",
       "2  12/16/2015\n",
       "3  12/26/2015\n",
       "4  12/28/2015"
      ],
      "text/html": "<div>\n<style scoped>\n    .dataframe tbody tr th:only-of-type {\n        vertical-align: middle;\n    }\n\n    .dataframe tbody tr th {\n        vertical-align: top;\n    }\n\n    .dataframe thead th {\n        text-align: right;\n    }\n</style>\n<table border=\"1\" class=\"dataframe\">\n  <thead>\n    <tr style=\"text-align: right;\">\n      <th></th>\n      <th>Issue Date</th>\n    </tr>\n  </thead>\n  <tbody>\n    <tr>\n      <th>0</th>\n      <td>12/26/2015</td>\n    </tr>\n    <tr>\n      <th>1</th>\n      <td>12/24/2015</td>\n    </tr>\n    <tr>\n      <th>2</th>\n      <td>12/16/2015</td>\n    </tr>\n    <tr>\n      <th>3</th>\n      <td>12/26/2015</td>\n    </tr>\n    <tr>\n      <th>4</th>\n      <td>12/28/2015</td>\n    </tr>\n  </tbody>\n</table>\n</div>"
     },
     "metadata": {},
     "execution_count": 38
    }
   ],
   "source": [
    "import pandas as pd\n",
    "import numpy as np\n",
    "import matplotlib.pyplot as plt\n",
    "from sklearn.decomposition import PCA\n",
    "import os\n",
    "from pathlib import Path\n",
    "import random\n",
    "import seaborn as sns\n",
    "\n",
    "\n",
    "# Load project directory\n",
    "PROJECT_DIR = Path(os.path.abspath('../..'))\n",
    "\n",
    "df = pd.read_csv('/home/greg/Documents/Git_Projects/car-make-beta/data/raw/2021-01-14_raw.csv',skiprows=lambda i: i > 0 and random.random() > .01, usecols=['Issue Date'])\n",
    "df.head()"
   ]
  },
  {
   "cell_type": "code",
   "execution_count": 39,
   "metadata": {},
   "outputs": [],
   "source": [
    "df['date'] = df['Issue Date'].apply(lambda x: pd.to_datetime(x))"
   ]
  },
  {
   "cell_type": "code",
   "execution_count": 40,
   "metadata": {},
   "outputs": [],
   "source": [
    "df.drop('Issue Date', axis=1, inplace=True)"
   ]
  },
  {
   "cell_type": "code",
   "execution_count": 41,
   "metadata": {},
   "outputs": [
    {
     "output_type": "execute_result",
     "data": {
      "text/plain": [
       "             date\n",
       "111281 2020-01-01\n",
       "118695 2020-01-01\n",
       "119643 2020-01-01\n",
       "120065 2020-01-01\n",
       "120297 2020-01-01\n",
       "120312 2020-01-01\n",
       "120541 2020-01-01\n",
       "120613 2020-01-01\n",
       "120631 2020-01-01\n",
       "120710 2020-01-01\n",
       "120728 2020-01-01"
      ],
      "text/html": "<div>\n<style scoped>\n    .dataframe tbody tr th:only-of-type {\n        vertical-align: middle;\n    }\n\n    .dataframe tbody tr th {\n        vertical-align: top;\n    }\n\n    .dataframe thead th {\n        text-align: right;\n    }\n</style>\n<table border=\"1\" class=\"dataframe\">\n  <thead>\n    <tr style=\"text-align: right;\">\n      <th></th>\n      <th>date</th>\n    </tr>\n  </thead>\n  <tbody>\n    <tr>\n      <th>111281</th>\n      <td>2020-01-01</td>\n    </tr>\n    <tr>\n      <th>118695</th>\n      <td>2020-01-01</td>\n    </tr>\n    <tr>\n      <th>119643</th>\n      <td>2020-01-01</td>\n    </tr>\n    <tr>\n      <th>120065</th>\n      <td>2020-01-01</td>\n    </tr>\n    <tr>\n      <th>120297</th>\n      <td>2020-01-01</td>\n    </tr>\n    <tr>\n      <th>120312</th>\n      <td>2020-01-01</td>\n    </tr>\n    <tr>\n      <th>120541</th>\n      <td>2020-01-01</td>\n    </tr>\n    <tr>\n      <th>120613</th>\n      <td>2020-01-01</td>\n    </tr>\n    <tr>\n      <th>120631</th>\n      <td>2020-01-01</td>\n    </tr>\n    <tr>\n      <th>120710</th>\n      <td>2020-01-01</td>\n    </tr>\n    <tr>\n      <th>120728</th>\n      <td>2020-01-01</td>\n    </tr>\n  </tbody>\n</table>\n</div>"
     },
     "metadata": {},
     "execution_count": 41
    }
   ],
   "source": [
    "df[df.date == '2020-01']"
   ]
  },
  {
   "cell_type": "code",
   "execution_count": 42,
   "metadata": {},
   "outputs": [
    {
     "output_type": "execute_result",
     "data": {
      "text/plain": [
       "             date\n",
       "0      2015-12-26\n",
       "1      2015-12-24\n",
       "2      2015-12-16\n",
       "3      2015-12-26\n",
       "4      2015-12-28\n",
       "...           ...\n",
       "122343 2021-01-12\n",
       "122344 2021-01-12\n",
       "122345 2021-01-12\n",
       "122346 2021-01-12\n",
       "122347        NaT\n",
       "\n",
       "[122348 rows x 1 columns]"
      ],
      "text/html": "<div>\n<style scoped>\n    .dataframe tbody tr th:only-of-type {\n        vertical-align: middle;\n    }\n\n    .dataframe tbody tr th {\n        vertical-align: top;\n    }\n\n    .dataframe thead th {\n        text-align: right;\n    }\n</style>\n<table border=\"1\" class=\"dataframe\">\n  <thead>\n    <tr style=\"text-align: right;\">\n      <th></th>\n      <th>date</th>\n    </tr>\n  </thead>\n  <tbody>\n    <tr>\n      <th>0</th>\n      <td>2015-12-26</td>\n    </tr>\n    <tr>\n      <th>1</th>\n      <td>2015-12-24</td>\n    </tr>\n    <tr>\n      <th>2</th>\n      <td>2015-12-16</td>\n    </tr>\n    <tr>\n      <th>3</th>\n      <td>2015-12-26</td>\n    </tr>\n    <tr>\n      <th>4</th>\n      <td>2015-12-28</td>\n    </tr>\n    <tr>\n      <th>...</th>\n      <td>...</td>\n    </tr>\n    <tr>\n      <th>122343</th>\n      <td>2021-01-12</td>\n    </tr>\n    <tr>\n      <th>122344</th>\n      <td>2021-01-12</td>\n    </tr>\n    <tr>\n      <th>122345</th>\n      <td>2021-01-12</td>\n    </tr>\n    <tr>\n      <th>122346</th>\n      <td>2021-01-12</td>\n    </tr>\n    <tr>\n      <th>122347</th>\n      <td>NaT</td>\n    </tr>\n  </tbody>\n</table>\n<p>122348 rows × 1 columns</p>\n</div>"
     },
     "metadata": {},
     "execution_count": 42
    }
   ],
   "source": [
    "df"
   ]
  },
  {
   "cell_type": "code",
   "execution_count": 43,
   "metadata": {},
   "outputs": [
    {
     "output_type": "execute_result",
     "data": {
      "text/plain": [
       "0.9095449046980744"
      ]
     },
     "metadata": {},
     "execution_count": 43
    }
   ],
   "source": [
    "111281/122348"
   ]
  },
  {
   "cell_type": "code",
   "execution_count": 44,
   "metadata": {},
   "outputs": [
    {
     "output_type": "execute_result",
     "data": {
      "text/plain": [
       "11180700.0"
      ]
     },
     "metadata": {},
     "execution_count": 44
    }
   ],
   "source": [
    "12300000*.909"
   ]
  },
  {
   "cell_type": "code",
   "execution_count": 45,
   "metadata": {},
   "outputs": [
    {
     "output_type": "execute_result",
     "data": {
      "text/plain": [
       "1119300.0"
      ]
     },
     "metadata": {},
     "execution_count": 45
    }
   ],
   "source": [
    "12300000-11180700.0"
   ]
  },
  {
   "cell_type": "code",
   "execution_count": null,
   "metadata": {},
   "outputs": [],
   "source": []
  }
 ]
}